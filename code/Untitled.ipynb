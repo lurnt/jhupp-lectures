{
 "cells": [
  {
   "cell_type": "markdown",
   "metadata": {},
   "source": [
    "###\n",
    "\n",
    "\n",
    "### CUDA Architecture Evolution\n",
    "\n",
    "Turing <- Pascal <- Maxwell <- Kepler <- Fermi <- Tesla <- G70\n",
    "  * G70 is GeForce Series 7 2005\n",
    "\n",
    "\n",
    "<img src=\"https://devblogs.nvidia.com/wp-content/uploads/2018/09/image2.jpg\" width=768 />\n",
    "\n",
    "* 4,608 CUDA Cores\n",
    "  * 64 cores / SM\n",
    "* 672 GB/sec memory throughput\n",
    "\n",
    "* 72 RT Cores\n",
    "\n",
    "* 576 Tensor Cores\n",
    "\n",
    "* 288 texture units\n",
    "\n",
    "* 12 32-bit GDDR6 memory controllers (384-bits total).\n",
    "\n",
    "<img src=\"https://devblogs.nvidia.com/wp-content/uploads/2018/09/image11.jpg\" width=512 />\n",
    "\n",
    "Properties:\n",
    "  * 16.3 GFlops of double precision floating point\n",
    "  * 32.6 GFlops of single precisions floating point\n",
    "  * 16.3 TIPs of integer arithmetic\n",
    "Common elements:\\\n",
    "\n"
   ]
  },
  {
   "cell_type": "code",
   "execution_count": null,
   "metadata": {},
   "outputs": [],
   "source": []
  }
 ],
 "metadata": {
  "kernelspec": {
   "display_name": "Python 3",
   "language": "python",
   "name": "python3"
  },
  "language_info": {
   "codemirror_mode": {
    "name": "ipython",
    "version": 3
   },
   "file_extension": ".py",
   "mimetype": "text/x-python",
   "name": "python",
   "nbconvert_exporter": "python",
   "pygments_lexer": "ipython3",
   "version": "3.6.8"
  }
 },
 "nbformat": 4,
 "nbformat_minor": 2
}
