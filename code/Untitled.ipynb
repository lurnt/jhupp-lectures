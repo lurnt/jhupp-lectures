{
 "cells": [
  {
   "cell_type": "markdown",
   "metadata": {},
   "source": [
    "## Warps, Divergence, and Loop Unrolling\n",
    "\n",
    "### Review Data Decomposition\n",
    "\n",
    "CUDA defines an equivalence between data (_grid_) and execution (_thread_).\n",
    "\n",
    "<img src=\"https://docs.nvidia.com/cuda/cuda-c-programming-guide/graphics/grid-of-thread-blocks.png\" />\n",
    "\n",
    "The programmer models their problem as a grid of data for which one thread is allocated per cell.  This is largely dictated by the requirement for coalesced memory access.\n",
    "\n",
    "The __Thread Block__ is an intermediate level of decomposition that runs on a single stream multiprocessor.\n",
    "\n",
    "### Scheduling Threads (Warps)\n",
    "\n",
    "<img src=\"https://www.3dgep.com/wp-content/uploads/2011/11/Dual-Warp-Scheduler.png\" />\n",
    "\n",
    "* CUDA threads are actually mapped onto hardware 32 threads at a time:\n",
    "  * concurrent launch of 16 thread half-warp\n",
    "  * half-warp matches the cache line size, i.e. if each thread reads/writes a contiguous element and the access is aligned, it is coalesced.\n",
    "  * so memory architecture dictates scheduling\n",
    "* Interleaving multiple warps allows longer running instructions one per clock cycle\n",
    "  * instruction execution actually takes many clock cycles\n",
    "  * same principle as processor pipelining"
   ]
  },
  {
   "cell_type": "markdown",
   "metadata": {},
   "source": [
    "#### What this means for unrolling?\n",
    "\n",
    "Let's consider an inner loop of a CUDA kernel operating on shared memory that performing a reduction:\n",
    "  * use half as many threads in each iteration (from a thread block down to 2).\n",
    "  * merging results to thread 0\n",
    "  * synchronize across thread blocks on each iteration\n",
    "\n",
    "\n",
    "```c\n",
    "for (unsigned int j=blockDim.x >> 1; j>0; j>>=1)\n",
    "{\n",
    "  if (tid < j)\n",
    "    SharedData[tid] += SharedData[tid+j];\n",
    "  __syncthreads();\n",
    "}\n",
    "```"
   ]
  }
 ],
 "metadata": {
  "kernelspec": {
   "display_name": "Python 3",
   "language": "python",
   "name": "python3"
  },
  "language_info": {
   "codemirror_mode": {
    "name": "ipython",
    "version": 3
   },
   "file_extension": ".py",
   "mimetype": "text/x-python",
   "name": "python",
   "nbconvert_exporter": "python",
   "pygments_lexer": "ipython3",
   "version": "3.6.8"
  }
 },
 "nbformat": 4,
 "nbformat_minor": 2
}
