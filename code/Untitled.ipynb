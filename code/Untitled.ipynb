{
 "cells": [
  {
   "cell_type": "markdown",
   "metadata": {},
   "source": [
    "## CUDA Best Practices\n",
    "\n",
    "Lecture derived from https://docs.nvidia.com/cuda/cuda-c-best-practices-guide/index.html.\n"
   ]
  },
  {
   "cell_type": "markdown",
   "metadata": {},
   "source": [
    "### Memory Access Patterns\n",
    "\n",
    "CUDA memory is _banked_ and _direct mapped_.\n",
    "  * ba\n",
    "  \n",
    "#### Coalesced Memory Accesses\n",
    "<img src=\"https://docs.nvidia.com/cuda/cuda-c-best-practices-guide/graphics/coalesced-access.png\" />\n",
    "in which all threads access a single cache line.  The CUDA warp (SIMD execution context) does a completely parallel transfer in a single memory access.\n",
    "\n",
    "Similar access patters may take twice as long:\n",
    "\n"
   ]
  }
 ],
 "metadata": {
  "kernelspec": {
   "display_name": "Python 3",
   "language": "python",
   "name": "python3"
  },
  "language_info": {
   "codemirror_mode": {
    "name": "ipython",
    "version": 3
   },
   "file_extension": ".py",
   "mimetype": "text/x-python",
   "name": "python",
   "nbconvert_exporter": "python",
   "pygments_lexer": "ipython3",
   "version": "3.6.8"
  }
 },
 "nbformat": 4,
 "nbformat_minor": 2
}
