{
 "cells": [
  {
   "cell_type": "markdown",
   "metadata": {},
   "source": [
    "## Map/Reduce Semantics and Systems\n",
    "\n",
    "### Types and transformations\n",
    "* Map is a transformation\n",
    "  * Input domain to output domain\n",
    "* Reduce is a collection\n",
    "  * No domain change\n",
    "  \n",
    "$$\n",
    "map (k1, v1) \\rightarrow list(k2,v2) \\\\\n",
    "reduce (k2, list(v2)) \\rightarrow list(v2)\n",
    "$$\n",
    "\n",
    "* Google C++ implementation is based all on strings\n",
    "  * User code must convert to structured types\n",
    "* Hadoop! has type wrappers\n",
    "\n",
    "\n"
   ]
  },
  {
   "cell_type": "code",
   "execution_count": null,
   "metadata": {},
   "outputs": [],
   "source": []
  }
 ],
 "metadata": {
  "kernelspec": {
   "display_name": "Python 3",
   "language": "python",
   "name": "python3"
  },
  "language_info": {
   "codemirror_mode": {
    "name": "ipython",
    "version": 3
   },
   "file_extension": ".py",
   "mimetype": "text/x-python",
   "name": "python",
   "nbconvert_exporter": "python",
   "pygments_lexer": "ipython3",
   "version": "3.6.8"
  }
 },
 "nbformat": 4,
 "nbformat_minor": 2
}
