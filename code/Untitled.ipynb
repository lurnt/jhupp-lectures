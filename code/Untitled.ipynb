{
 "cells": [
  {
   "cell_type": "markdown",
   "metadata": {},
   "source": [
    "\n",
    "\"We believe that for the recent past and foreseeable future, off-chip memory bandwidth will often be the constraining resource\"'\n"
   ]
  },
  {
   "cell_type": "code",
   "execution_count": null,
   "metadata": {},
   "outputs": [],
   "source": [
    "library(ggplot2)\n",
    "\n",
    "\n",
    "intensity = 2^(-8:4)\n",
    "\n",
    "offchip = 16 # GB/s\n",
    "flopsmax = 16 # GFLOPs\n",
    "        \n",
    "memband <- data.frame(intensity, intensity * 16, flopsmax )\n",
    "colnames(memband) <- c(\"intensity\", \"FLOPS\", 'cpuFLOPS')\n",
    "\n",
    " \n",
    "       \n",
    "aplot <- ggplot(memband, aes(x=intensity, y=FLOPS, color=\"off-chip\")) + geom_line() +\n",
    "            geom_line(data=memband, aes(x=intensity, y=cpuFLOPS, color=\"cpu\")) +\n",
    "            coord_trans(x=\"log2\", y=\"log2\") + scale_y_continuous(limits=c(1,50))\n",
    "\n",
    "print(aplot)\n"
   ]
  },
  {
   "cell_type": "code",
   "execution_count": null,
   "metadata": {},
   "outputs": [],
   "source": []
  }
 ],
 "metadata": {
  "kernelspec": {
   "display_name": "R",
   "language": "R",
   "name": "ir"
  },
  "language_info": {
   "codemirror_mode": "r",
   "file_extension": ".r",
   "mimetype": "text/x-r-source",
   "name": "R",
   "pygments_lexer": "r",
   "version": "3.5.1"
  }
 },
 "nbformat": 4,
 "nbformat_minor": 2
}
