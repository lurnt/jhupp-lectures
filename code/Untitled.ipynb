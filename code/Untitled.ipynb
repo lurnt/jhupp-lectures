{
 "cells": [
  {
   "cell_type": "code",
   "execution_count": null,
   "metadata": {},
   "outputs": [],
   "source": [
    "library(ggplot2)\n",
    "\n",
    "\n",
    "intensity = seq(0.1:0.1:10)\n",
    "\n",
    "p = .99\n",
    "        \n",
    "amdahl <- data.frame(cores, 1/((1-p)+p/cores))\n",
    "colnames(amdahl) <- c(\"cores\",\"speedup\")\n",
    "\n",
    "aplot <- ggplot(amdahl, aes(x=cores, y=speedup, color=\"Speedup\")) + geom_point() +\n",
    "            geom_line(data=amdahl, aes(x=cores,y=cores, color=\"Ideal\")) +\n",
    "            scale_color_manual(values = c(\"Speedup\" = 'black','Ideal' = 'blue'))\n",
    "\n",
    "print(aplot)\n",
    "\n"
   ]
  }
 ],
 "metadata": {
  "kernelspec": {
   "display_name": "R",
   "language": "R",
   "name": "ir"
  },
  "language_info": {
   "codemirror_mode": "r",
   "file_extension": ".r",
   "mimetype": "text/x-r-source",
   "name": "R",
   "pygments_lexer": "r",
   "version": "3.5.1"
  }
 },
 "nbformat": 4,
 "nbformat_minor": 2
}
