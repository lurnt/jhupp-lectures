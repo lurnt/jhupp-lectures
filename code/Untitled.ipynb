{
 "cells": [
  {
   "cell_type": "code",
   "execution_count": 6,
   "metadata": {},
   "outputs": [
    {
     "ename": "ERROR",
     "evalue": "Error: Cannot use `+.gg()` with a single argument. Did you accidentally put + on a new line?\n",
     "output_type": "error",
     "traceback": [
      "Error: Cannot use `+.gg()` with a single argument. Did you accidentally put + on a new line?\nTraceback:\n",
      "1. `+.gg`(geom_line())",
      "2. stop(\"Cannot use `+.gg()` with a single argument. \", \"Did you accidentally put + on a new line?\", \n .     call. = FALSE)"
     ]
    }
   ],
   "source": [
    "library(ggplot2)\n",
    "\n",
    "\n",
    "intensity = 2^(-8:4)\n",
    "\n",
    "flopsmax = 16 # GB/s\n",
    "        \n",
    "memband <- data.frame(intensity, intensity * 16 )\n",
    "colnames(memband) <- c(\"intesnity\",\"FLOPS\")\n",
    "\n",
    "aplot <- ggplot(memband, aes(x=intensity, y=FLOPS, color=\"off-chip bw limited\")) \n",
    "         + geom_line() + coord_trans(x=\"log2\", y=\"log2\") + ylim(0,20)\n",
    "\n",
    "print(aplot)\n",
    "\n"
   ]
  },
  {
   "cell_type": "code",
   "execution_count": null,
   "metadata": {},
   "outputs": [],
   "source": []
  }
 ],
 "metadata": {
  "kernelspec": {
   "display_name": "R",
   "language": "R",
   "name": "ir"
  },
  "language_info": {
   "codemirror_mode": "r",
   "file_extension": ".r",
   "mimetype": "text/x-r-source",
   "name": "R",
   "pygments_lexer": "r",
   "version": "3.5.1"
  }
 },
 "nbformat": 4,
 "nbformat_minor": 2
}
