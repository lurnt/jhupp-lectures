{
 "cells": [
  {
   "cell_type": "markdown",
   "metadata": {},
   "source": [
    "## GPUs: From Pipelines to Accelerators\n",
    "\n",
    "A GPU is:\n",
    "* Specialized hardare for graphics rendering\n",
    "* Optimized for floating point transformations on \n",
    "    * 3-d models (representations of physical objects)\n",
    "    * 2-d dense arrays (presentation) \n",
    "    \n",
    "_A little history_. The GPU pipeline evolved from customized hardware for 3-d rendering onto 2-d planes for visualization.  The translation of the representation of a physical system into monitor/screen views.\n",
    "  * Input: vertexes and primitves, lighting parameters, transformations\n",
    "  * Output: 2-d image for display\n",
    "  \n",
    "The pipeline was fixed function transforming models into images.\n",
    "The user prepared and loaded data then invoked the pipeline with DirectX or OpenGL.\n",
    "The pipeline had phases:\n",
    "* Command:\n",
    "  * triangulate polygons\n",
    "  * prepare vertex data streams\n",
    "* Geometry: vertex operaations\n",
    "  * model transformations\n",
    "  * view transformations\n",
    "  * vertex-based lighting\n",
    "  * perspective transformations\n",
    "* Rasterization: 3-d to 2-d\n",
    "  * map triangle\n",
    "  * interpolate vertex attributes\n",
    "  * clipping\n",
    "  * create fragments\n",
    "* Texture: \n",
    "  * lookup and apply texture\n",
    "  * perform texture filtering\n",
    "* Fragement:\n",
    "  * lighting\n",
    "  * anti-aliasing\n",
    "  * alpha blending\n",
    "  * image effects\n",
    "* Display: convert fragments to pixels\n",
    "  * depth buffer test\n",
    "  * stencil buffer test\n",
    "  * accumulation\n",
    "  * output\n",
    "  \n",
    "<img src=\"http://romain.vergne.free.fr/teaching/IS/imgs03/pipeline-v1-06.png\" title=\"Pixel Processing in OpenFL\" />\n",
    "\n",
    "* Hardware Evolution\n",
    "  * Early pipelines had each function in separate hardware\n",
    "    * pipeline parallelism\n",
    "  * Ev\n"
   ]
  },
  {
   "cell_type": "code",
   "execution_count": null,
   "metadata": {},
   "outputs": [],
   "source": []
  }
 ],
 "metadata": {
  "kernelspec": {
   "display_name": "Python 3",
   "language": "python",
   "name": "python3"
  },
  "language_info": {
   "codemirror_mode": {
    "name": "ipython",
    "version": 3
   },
   "file_extension": ".py",
   "mimetype": "text/x-python",
   "name": "python",
   "nbconvert_exporter": "python",
   "pygments_lexer": "ipython3",
   "version": "3.6.8"
  }
 },
 "nbformat": 4,
 "nbformat_minor": 2
}
