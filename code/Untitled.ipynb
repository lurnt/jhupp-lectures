{
 "cells": [
  {
   "cell_type": "markdown",
   "metadata": {},
   "source": [
    "## Map/Reduce Semantics and Systems\n",
    "\n",
    "### Types and transformations\n",
    "* Map is a transformation\n",
    "  * Input domain to output domain\n",
    "* Reduce is a collection\n",
    "  * No domain change\n",
    "  \n",
    "$$\n",
    "map (k1, v1) \\rightarrow list(k2,v2) \\\\\n",
    "reduce (k2, list(v2)) \\rightarrow list(v2)\n",
    "$$\n",
    "\n",
    "* Google C++ implementation is based all on strings\n",
    "  * User code must convert to structured types\n",
    "* Hadoop! has type wrappers\n",
    "\n",
    "### Parallelism in Map/Reduce\n",
    "\n",
    "* How much potential paralleism in mappers? in reducers?\n",
    "\n",
    "\n",
    ".\n",
    "\n",
    ".\n",
    "\n",
    "......spoiler alert.......\n",
    "  \n",
    ".  \n",
    "\n",
    ".\n",
    "* Mappers: up to a parallel process for each input (typically a file)\n",
    "* Reducers: up to a paralle process for each key\n",
    "* So for the WordCount example\n",
    "  * two files = two mappers\n",
    "  * 5 different words = five mappers\n",
    "  * but this is scalable with input\n",
    "\n",
    "\n",
    "Differentiating betweens mapper/reducer and map/reduce processes\n",
    "* A cluster will typically configure number of available phyical processes\n",
    "  * this numer is typically much smaller than potential parallelism\n",
    "  * we refer to `mappers` as potential parallelism and `map processes` as the number of phyical processes running map functions."
   ]
  },
  {
   "cell_type": "markdown",
   "metadata": {},
   "source": [
    "### Map/Reduce Runtimes\n",
    "\n",
    "From the Google paper https://www.usenix.org/legacy/events/osdi04/tech/dean.html\n",
    "\n",
    "<img src=\"images/mr.png\" width=512 />\n",
    "\n",
    "* Automatically partition input data\n",
    "  * 16-64 MB chunks for Google\n",
    "* Create M map tasks: one for each chunk\n",
    "  * Assign available workers (up to M) to tasks\n",
    "* Write intermediate pairs to local (to worker) disk\n",
    "* R reduce tasks (defined by user) read and process intermediate results\n",
    "* Output is up to R files available on shared file system\n",
    "* Master tracks state\n",
    "  * Asssignment of M map tasks and R reduce tasks to workers\n",
    "  * State and liveliness of the above\n"
   ]
  }
 ],
 "metadata": {
  "kernelspec": {
   "display_name": "Python 3",
   "language": "python",
   "name": "python3"
  },
  "language_info": {
   "codemirror_mode": {
    "name": "ipython",
    "version": 3
   },
   "file_extension": ".py",
   "mimetype": "text/x-python",
   "name": "python",
   "nbconvert_exporter": "python",
   "pygments_lexer": "ipython3",
   "version": "3.6.8"
  }
 },
 "nbformat": 4,
 "nbformat_minor": 2
}
