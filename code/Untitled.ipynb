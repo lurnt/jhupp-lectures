{
 "cells": [
  {
   "cell_type": "code",
   "execution_count": null,
   "metadata": {},
   "outputs": [],
   "source": [
    "library(ggplot2)\n",
    "\n",
    "\n",
    "intensity = 2^(-8:4)\n",
    "\n",
    "flopsmax = 16 # GB/s\n",
    "        \n",
    "memband <- data.frame(intensity, intensity * 16 )\n",
    "colnames(memband) <- c(\"intesnity\",\"FLOPS\")\n",
    "\n",
    "aplot <- ggplot(memband, aes(x=intensity, y=FLOPS, color=\"intensity\")) + geom_point() +\n",
    "            geom_line(data=amdahl, aes(x=cores,y=cores, color=\"Ideal\")) +\n",
    "            scale_color_manual(values = c(\"Speedup\" = 'black','Ideal' = 'blue'))\n",
    "\n",
    "print(aplot)\n",
    "\n"
   ]
  }
 ],
 "metadata": {
  "kernelspec": {
   "display_name": "R",
   "language": "R",
   "name": "ir"
  },
  "language_info": {
   "codemirror_mode": "r",
   "file_extension": ".r",
   "mimetype": "text/x-r-source",
   "name": "R",
   "pygments_lexer": "r",
   "version": "3.5.1"
  }
 },
 "nbformat": 4,
 "nbformat_minor": 2
}
