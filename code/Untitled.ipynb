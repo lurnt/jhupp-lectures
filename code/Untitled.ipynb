{
 "cells": [
  {
   "cell_type": "markdown",
   "metadata": {},
   "source": [
    "## Map/Reduce Streaming\n",
    "\n",
    "The Hadoop! Map/Reduce implementation is an engine. You can give it arbitrary executable processes that it will run at scale.  As opposed to .jar files.\n",
    "\n",
    "### Streaming Mode\n",
    "\n",
    "/usr/local/hadoop-2.9.2/bin/hadoop jar wc.jar WordCount /mnt/labbook/input/wordcount /mnt/labbook/output/untracked/output\n",
    "\n",
    "\n",
    "\n",
    "### Near equivalence\n",
    "\n",
    "For t two shell scripts `mapper.py` and `reducer.py` Hadoop! streaming execution is semantically equivalent to \n",
    "```bash\n",
    "cd code/hadoop/wordcount_streaming\n",
    "cat ../../../input/wordcount/* | ./mapper.py | sort | ./reducer.py\n",
    "```\n",
    "But, both are different than the java WordCount implementation..........because?\n"
   ]
  },
  {
   "cell_type": "code",
   "execution_count": null,
   "metadata": {},
   "outputs": [],
   "source": []
  }
 ],
 "metadata": {
  "kernelspec": {
   "display_name": "Python 3",
   "language": "python",
   "name": "python3"
  },
  "language_info": {
   "codemirror_mode": {
    "name": "ipython",
    "version": 3
   },
   "file_extension": ".py",
   "mimetype": "text/x-python",
   "name": "python",
   "nbconvert_exporter": "python",
   "pygments_lexer": "ipython3",
   "version": "3.6.8"
  }
 },
 "nbformat": 4,
 "nbformat_minor": 2
}
