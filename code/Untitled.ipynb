{
 "cells": [
  {
   "cell_type": "markdown",
   "metadata": {},
   "source": [
    "## GPUs: From Pipelines to Accelerators\n",
    "\n",
    "A GPU is:\n",
    "* Specialized hardare for graphics rendering\n",
    "* Optimized for floating point transformations on \n",
    "    * 3-d models (representations of physical objects)\n",
    "    * 2-d dense arrays (presentation) \n",
    "    \n",
    "    \n",
    "_A little history_. The GPU pipeline evolved from customized hardware for 3-d rendering onto 2-d planes for visualization.  The translation of the representation of a physical system into monitor/screen views.\n",
    "  * Input: vertexes and primitves, lighting parameters, transformations\n",
    "  * Output: 2-d image for display\n",
    "  \n",
    "The pipeline was fixed function transforming models into images.\n",
    "The user prepared and loaded data then invoked the pipeline with DirectX or OpenGL.\n",
    "The pipeline had phases:\n",
    "* pipeline:\n",
    "  * triangulate polygons\n",
    "  * prepare vertex data streams\n",
    "  "
   ]
  }
 ],
 "metadata": {
  "kernelspec": {
   "display_name": "Python 3",
   "language": "python",
   "name": "python3"
  },
  "language_info": {
   "codemirror_mode": {
    "name": "ipython",
    "version": 3
   },
   "file_extension": ".py",
   "mimetype": "text/x-python",
   "name": "python",
   "nbconvert_exporter": "python",
   "pygments_lexer": "ipython3",
   "version": "3.6.8"
  }
 },
 "nbformat": 4,
 "nbformat_minor": 2
}
