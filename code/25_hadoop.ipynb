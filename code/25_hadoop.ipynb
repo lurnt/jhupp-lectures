{
 "cells": [
  {
   "cell_type": "markdown",
   "metadata": {},
   "source": [
    "## Hadoop! A First Example\n",
    "\n",
    "I've installed map/reduce and example in Gigantum.  Run in a terminal with.\n",
    "\n",
    "```bash\n",
    "cd code/hadoop/wordcount\n",
    "/usr/local/hadoop-2.9.2/bin/hadoop com.sun.tools.javac.Main WordCount.java\n",
    "jar cf wc.jar WordCount*.class\n",
    "/usr/local/hadoop-2.9.2/bin/hadoop jar wc.jar WordCount /mnt/labbook/input/wordcount /mnt/labbook/output/untracked/output\n",
    "```\n",
    "### What did we learn??\n",
    "\n",
    "* Hadoop programs are written in Java (natively)\n",
    "  * Compiled and packed into a Java archive file.\n",
    "* The Hadoop executable takes a jar archive and sumbits it to the engine\n",
    "  * You should think about this as a job submission engine, similar to HPC schedulers.\n",
    "* Hadoop takes **HDFS** file paths as input and write **HDFS** files as output\n",
    "  * These are actually local file system paths.....more on this later.\n",
    "  \n",
    "### A Java Map/Reduce Program\n",
    "\n",
    "This example is taken from the [Map/Reduce tutorial]()https://hadoop.apache.org/docs/stable/hadoop-mapreduce-client/hadoop-mapreduce-client-core/MapReduceTutorial.html).  Everyone should do this tutorial.\n",
    "\n",
    "[WordCount.java](./hadoop/wordcount/WordCount.java)\n",
    "\n",
    "A Map/Reduce program contains class that defines a `map()` and `reduce()` function from the interfaces in:\n",
    "* Java package org.apache.hadoop.io.mapreduce\n",
    "  * Mapper (interface for mapper function)\n",
    "  * Reducer (interface for reducer function)\n",
    "* Paradigm\n",
    "  * Implement the interfaces\n",
    "  * Called by the Hadoop! runtime\n",
    "  \n",
    "  \n",
    "#### Mapper\n",
    "\n",
    "* Defines a schema for input and output keyva/\n",
    "     extends Mapper<Object, Text, Text, IntWritable>{\n",
    "\n",
    "    private final static IntWritable one = new IntWritable(1);\n",
    "    private Text word = new Text();\n",
    "\n",
    "    public void map(Object key, Text value, Context context\n",
    "                    ) throws IOException, InterruptedException {\n",
    "      StringTokenizer itr = new StringTokenizer(value.toString());\n",
    "      while (itr.hasMoreTokens()) {\n",
    "        word.set(itr.nextToken());\n",
    "        context.write(word, one);\n",
    "      }\n",
    "    }\n",
    "  }\n",
    "  \n",
    "  \n",
    "### Runtime Systems and Execution Modes\n",
    "\n",
    "\n"
   ]
  },
  {
   "cell_type": "code",
   "execution_count": null,
   "metadata": {},
   "outputs": [],
   "source": []
  }
 ],
 "metadata": {
  "kernelspec": {
   "display_name": "Python 3",
   "language": "python",
   "name": "python3"
  },
  "language_info": {
   "codemirror_mode": {
    "name": "ipython",
    "version": 3
   },
   "file_extension": ".py",
   "mimetype": "text/x-python",
   "name": "python",
   "nbconvert_exporter": "python",
   "pygments_lexer": "ipython3",
   "version": "3.6.8"
  }
 },
 "nbformat": 4,
 "nbformat_minor": 2
}
