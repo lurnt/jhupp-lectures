{
 "cells": [
  {
   "cell_type": "markdown",
   "metadata": {},
   "source": [
    "## Hadoop! A First Example\n",
    "\n",
    "I've installed map/reduce and example in Gigantum.  Run in a terminal with.\n",
    "\n",
    "```bash\n",
    "cd code/hadoop/wordcount\n",
    "/usr/local/hadoop-2.9.2/bin/hadoop com.sun.tools.javac.Main WordCount.java\n",
    "jar cf wc.jar WordCount*.class\n",
    "/usr/local/hadoop-2.9.2/bin/hadoop jar wc.jar WordCount /mnt/labbook/input/wordcount /mnt/labbook/output/untracked/output\n",
    "```\n",
    "### What did we learn??\n",
    "\n",
    "* Hadoop programs are written in Java (natively)\n",
    "  * Compiled and packed into a Java archive file.\n",
    "* The Hadoop executable takes a jar archive and sumbits it to the engine\n",
    "  * You should think about this as a job submission engine, similar to HPC schedulers.\n",
    "* Hadoop takes **HDFS** file paths as input and write **HDFS** files as output\n",
    "  * These are actually local file system paths.....more on this later.\n",
    "  \n",
    "### A Java Map/Reduce Program\n",
    "\n",
    "[WordCount.java](./hadooop/wordcount/WordCount.java)"
   ]
  },
  {
   "cell_type": "code",
   "execution_count": null,
   "metadata": {},
   "outputs": [],
   "source": []
  }
 ],
 "metadata": {
  "kernelspec": {
   "display_name": "Python 3",
   "language": "python",
   "name": "python3"
  },
  "language_info": {
   "codemirror_mode": {
    "name": "ipython",
    "version": 3
   },
   "file_extension": ".py",
   "mimetype": "text/x-python",
   "name": "python",
   "nbconvert_exporter": "python",
   "pygments_lexer": "ipython3",
   "version": "3.6.8"
  }
 },
 "nbformat": 4,
 "nbformat_minor": 2
}
