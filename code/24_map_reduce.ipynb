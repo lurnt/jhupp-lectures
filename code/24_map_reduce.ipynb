{
 "cells": [
  {
   "cell_type": "markdown",
   "metadata": {},
   "source": [
    "## Map/Reduce\n",
    "\n",
    "* A structured programming model for data parallelism\n",
    "  * Geared toward data intensive applications, not compute.\n",
    "  * Data-parallel, distributed-memory, data-intensive  \n",
    "* Map/Reduce is co-deployed with The **Google File System**\n",
    "  * Large scale parallel file system for large objects\n",
    "  * Failures are the normal case\n",
    "  * M/R requires such a global data service\n",
    "* Open-source re-implementation\n",
    "  * HADOOP: Map/Reduce\n",
    "  * HDFS: Google File System\n",
    "\n",
    "### Some important properties\n",
    "\n",
    "* Automated parallelism\n",
    "  * programmer has no interaction with number of processes workers.\n",
    "  * same program runs on any M/R cluster\n",
    "* Functional programming concepts\n",
    "  * break progam into a data parallel portion (`map`) and a reduction (`reduce`)\n",
    "  * user-defined functions for each task\n",
    "* Sequential/streaming data access\n",
    "  * "
   ]
  },
  {
   "cell_type": "markdown",
   "metadata": {},
   "source": [
    "```bash\n",
    "cd code/hadoop/examples\n",
    "../hadoop-2.9.2/bin/hadoop com.sun.tools.javac.Main WordCount.java\n",
    "jar cf wc.jar WordCount*.class\n",
    "../hadoop-2.9.2/bin/hadoop jar wc.jar WordCount /mnt/labbook/input/wordcount /mnt/labbook/output/untracked/output\n",
    "```"
   ]
  }
 ],
 "metadata": {
  "kernelspec": {
   "display_name": "Java",
   "language": "java",
   "name": "java"
  },
  "language_info": {
   "codemirror_mode": "java",
   "file_extension": ".java",
   "mimetype": "text/x-java-source",
   "name": "Java",
   "pygments_lexer": "java",
   "version": "10.0.2+13-Ubuntu-1ubuntu0.18.04.4"
  }
 },
 "nbformat": 4,
 "nbformat_minor": 2
}
